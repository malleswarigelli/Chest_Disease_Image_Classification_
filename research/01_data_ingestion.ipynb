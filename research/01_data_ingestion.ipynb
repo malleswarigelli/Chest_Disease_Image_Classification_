{
 "cells": [
  {
   "cell_type": "markdown",
   "metadata": {},
   "source": [
    "# Data Ingestion component workflow"
   ]
  },
  {
   "cell_type": "code",
   "execution_count": 1,
   "metadata": {},
   "outputs": [],
   "source": [
    "import os"
   ]
  },
  {
   "cell_type": "code",
   "execution_count": 2,
   "metadata": {},
   "outputs": [
    {
     "data": {
      "text/plain": [
       "'c:\\\\Users\\\\anjik\\\\Desktop\\\\MLOPs_projects\\\\Chest_Disease_Image_Classification\\\\research'"
      ]
     },
     "execution_count": 2,
     "metadata": {},
     "output_type": "execute_result"
    }
   ],
   "source": [
    "# current working directory\n",
    "%pwd"
   ]
  },
  {
   "cell_type": "code",
   "execution_count": 3,
   "metadata": {},
   "outputs": [],
   "source": [
    "# move to root directory\n",
    "os.chdir(\"../\")"
   ]
  },
  {
   "cell_type": "code",
   "execution_count": 4,
   "metadata": {},
   "outputs": [
    {
     "data": {
      "text/plain": [
       "'c:\\\\Users\\\\anjik\\\\Desktop\\\\MLOPs_projects\\\\Chest_Disease_Image_Classification'"
      ]
     },
     "execution_count": 4,
     "metadata": {},
     "output_type": "execute_result"
    }
   ],
   "source": [
    "%pwd"
   ]
  },
  {
   "cell_type": "code",
   "execution_count": 5,
   "metadata": {},
   "outputs": [],
   "source": [
    "# create dataclass for DataIngestionConfig (inputs from config.yaml)\n",
    "\n",
    "from dataclasses import dataclass\n",
    "from pathlib import Path\n",
    "\n",
    "# similar to config_entity\n",
    "@dataclass(frozen=True)\n",
    "class DataIngestionConfig:\n",
    "    root_dir: Path\n",
    "    source_URL: str\n",
    "    local_data_file: Path\n",
    "    unzip_dir: Path"
   ]
  },
  {
   "cell_type": "code",
   "execution_count": 6,
   "metadata": {},
   "outputs": [
    {
     "name": "stdout",
     "output_type": "stream",
     "text": [
      "config\\config.yaml\n",
      "params.yaml\n"
     ]
    }
   ],
   "source": [
    "# read config, params files from constant\n",
    "\n",
    "from cnnClassifier.constants import *\n",
    "print(CONFIG_FILE_PATH)\n",
    "print(PARAMS_FILE_PATH)\n"
   ]
  },
  {
   "cell_type": "code",
   "execution_count": 7,
   "metadata": {},
   "outputs": [],
   "source": [
    "# common functions (read_yaml, create_directory) in utils\n",
    "from cnnClassifier.utils.common import read_yaml, create_directories"
   ]
  },
  {
   "cell_type": "code",
   "execution_count": 8,
   "metadata": {},
   "outputs": [],
   "source": [
    "# write configuration manager\n",
    "class ConfigurationManager:\n",
    "    \"\"\"\n",
    "    ConfigurationManager class captures & returns configuration for components implementation\n",
    "        \n",
    "    \"\"\"\n",
    "    def __init__(self,\n",
    "        # params: config.yaml, params.yaml          \n",
    "        config_filepath = CONFIG_FILE_PATH,\n",
    "        params_filepath = PARAMS_FILE_PATH):\n",
    "        \n",
    "        # read config, params yaml file\n",
    "        self.config = read_yaml(config_filepath) # returns ConfigBox to access data easily\n",
    "        self.params = read_yaml(params_filepath)\n",
    "        \n",
    "        # create artifact directory\n",
    "        create_directories([self.config.artifacts_root])\n",
    "        \n",
    "    def get_data_ingestion_config (self) -> DataIngestionConfig:\n",
    "        \"\"\"\n",
    "        Method: get_data_ingestion_config\n",
    "        Params:\n",
    "        Returns: configuration for Data Ingestion component i.e DataIngestionConfig \n",
    "        \"\"\"\n",
    "        logger.info(\"Entering get_data_ingestion_config method of ConfigurationManager\")\n",
    "        data_ingestion_config = self.config.data_ingestion # data_ingestion key from config.yaml\n",
    "        create_directories([data_ingestion_config.root_dir]) # creates artifacts/data_ingestion directory\n",
    "        \n",
    "        # returning from entity: DataIngestionConfig dataclass\n",
    "        data_ingestion_config= DataIngestionConfig(\n",
    "            root_dir = data_ingestion_config.root_dir,\n",
    "            source_URL= data_ingestion_config.source_URL,\n",
    "            local_data_file= data_ingestion_config.local_data_file,          \n",
    "            unzip_dir= data_ingestion_config.unzip_dir\n",
    "        )\n",
    "        logger.info(\"Then, exiting get_data_ingestion_config method of ConfigurationManager\")\n",
    "        return data_ingestion_config\n",
    "        "
   ]
  },
  {
   "cell_type": "code",
   "execution_count": 9,
   "metadata": {},
   "outputs": [],
   "source": [
    "from cnnClassifier import logger\n",
    "import gdown\n",
    "import os\n",
    "import zipfile\n",
    "from cnnClassifier.utils.common import get_size"
   ]
  },
  {
   "cell_type": "code",
   "execution_count": 10,
   "metadata": {},
   "outputs": [],
   "source": [
    "# write DataIngestion Component\n",
    "class DataIngestion:\n",
    "    \"\"\"\n",
    "    \n",
    "    \"\"\"\n",
    "    def __init__(self, data_ingestion_config:DataIngestionConfig):\n",
    "        self.data_ingestion_config = data_ingestion_config\n",
    "    \n",
    "    def download_file(self) ->str:\n",
    "        \"\"\"\n",
    "        Method: download_url\n",
    "        purpose: fetch data from the url\n",
    "        Returns: str: _description_\n",
    "        \"\"\"\n",
    "        logger.info(\"Entering download_file method of DataIngestion component\")\n",
    "        \n",
    "        try:\n",
    "            dataset_url = self.data_ingestion_config.source_URL\n",
    "            zip_download_dir = self.data_ingestion_config.local_data_file #artifacts/data_ingestion/data.zip\n",
    "            # create directory to store zip file\n",
    "            os.makedirs(\"artifacts/data_ingestion\", exist_ok=True)\n",
    "            logger.info(f\"Downloading data from {dataset_url} into {zip_download_dir}\")\n",
    "            \n",
    "            file_id = dataset_url.split('/')[-2]\n",
    "            prefix = 'https://drive.google.com/uc?/export=download&id='\n",
    "            gdown.download(prefix+file_id, zip_download_dir) # gdown.download('from_where', 'to_where')\n",
    "            \n",
    "            logger.info(f\"Downloaded data from {dataset_url} into {zip_download_dir}\")\n",
    "            logger.info(\"Then, exiting download_file method of DataIngestion component\")\n",
    "        except Exception as e:\n",
    "            raise e\n",
    "            \n",
    "    def extract_zip_data(self) -> None:\n",
    "        \"\"\"\n",
    "        Method: extract_zip_data\n",
    "        purpose: Extract zip file into the data directory\n",
    "        zip_file_path:str\n",
    "        Returns: None\n",
    "        \n",
    "        \"\"\"\n",
    "        logger.info(\"Entering extract_zip_data method of DataIngestion component\")\n",
    "        \n",
    "        try:\n",
    "            # path for unzip_dir \n",
    "            unzip_path = self.data_ingestion_config.unzip_dir  # artifacts/data_ingestion\n",
    "            os.makedirs(unzip_path, exist_ok=True) \n",
    "            \n",
    "            logger.info(f\"Extracting zip file into {unzip_path}\")\n",
    "            \n",
    "            zip_file = self.data_ingestion_config.local_data_file\n",
    "            # unzip from artifacts/data_ingestion/data.zip\n",
    "            with zipfile.ZipFile(zip_file, \"r\") as zip_ref:\n",
    "                # extract into artifacts/data_ingestion\n",
    "                zip_ref.extractall(unzip_path)\n",
    "                \n",
    "            logger.info(f\"Extracted zip data from {zip_file} into {unzip_path}\") \n",
    "            logger.info(\"Then, exiting extract_zip_data method of DataIngestion component\")   \n",
    "            \n",
    "        except Exception as e:\n",
    "            raise e"
   ]
  },
  {
   "cell_type": "markdown",
   "metadata": {},
   "source": [
    "# Training pipeline for data ingestion component"
   ]
  },
  {
   "cell_type": "code",
   "execution_count": 11,
   "metadata": {},
   "outputs": [
    {
     "name": "stdout",
     "output_type": "stream",
     "text": [
      "[2024-03-16 23:30:39,707: INFO: 2322006326: Data Ingestion component started]\n",
      "[2024-03-16 23:30:39,709: INFO: 2322006326: Loading of Data Ingestion configuration started]\n",
      "[2024-03-16 23:30:39,713: INFO: common: yaml file: config\\config.yaml loaded successfully]\n",
      "[2024-03-16 23:30:39,717: INFO: common: yaml file: params.yaml loaded successfully]\n",
      "[2024-03-16 23:30:39,719: INFO: common: created directory at: artifacts]\n",
      "[2024-03-16 23:30:39,721: INFO: 3479315878: Entering get_data_ingestion_config method of ConfigurationManager]\n",
      "[2024-03-16 23:30:39,722: INFO: common: created directory at: artifacts/data_ingestion]\n",
      "[2024-03-16 23:30:39,723: INFO: 3479315878: Then, exiting get_data_ingestion_config method of ConfigurationManager]\n",
      "[2024-03-16 23:30:39,724: INFO: 2322006326: All configuration directories, files needed for Data Ingestion component are ready]\n",
      "[2024-03-16 23:30:39,725: INFO: 2322006326: Data Ingestion steps started]\n",
      "[2024-03-16 23:30:39,726: INFO: 3070473835: Entering download_file method of DataIngestion component]\n",
      "[2024-03-16 23:30:39,727: INFO: 3070473835: Downloading data from https://drive.google.com/file/d/1z0mreUtRmR-P-magILsDR3T7M6IkGXtY/view?usp=drive_link into artifacts/data_ingestion/data.zip]\n"
     ]
    },
    {
     "name": "stderr",
     "output_type": "stream",
     "text": [
      "Downloading...\n",
      "From (original): https://drive.google.com/uc?/export=download&id=1z0mreUtRmR-P-magILsDR3T7M6IkGXtY\n",
      "From (redirected): https://drive.google.com/uc?%2Fexport=download&id=1z0mreUtRmR-P-magILsDR3T7M6IkGXtY&confirm=t&uuid=62da1ff9-2fa9-45c5-ac6d-e24f00c4e3c7\n",
      "To: c:\\Users\\anjik\\Desktop\\MLOPs_projects\\Chest_Disease_Image_Classification\\artifacts\\data_ingestion\\data.zip\n",
      "100%|██████████| 49.0M/49.0M [00:28<00:00, 1.74MB/s]"
     ]
    },
    {
     "name": "stdout",
     "output_type": "stream",
     "text": [
      "[2024-03-16 23:31:09,690: INFO: 3070473835: Downloaded data from https://drive.google.com/file/d/1z0mreUtRmR-P-magILsDR3T7M6IkGXtY/view?usp=drive_link into artifacts/data_ingestion/data.zip]\n",
      "[2024-03-16 23:31:09,691: INFO: 3070473835: Then, exiting download_file method of DataIngestion component]\n",
      "[2024-03-16 23:31:09,691: INFO: 3070473835: Entering extract_zip_data method of DataIngestion component]\n",
      "[2024-03-16 23:31:09,692: INFO: 3070473835: Extracting zip file into artifacts/data_ingestion]\n"
     ]
    },
    {
     "name": "stderr",
     "output_type": "stream",
     "text": [
      "\n"
     ]
    },
    {
     "name": "stdout",
     "output_type": "stream",
     "text": [
      "[2024-03-16 23:31:10,260: INFO: 3070473835: Extracted zip data from artifacts/data_ingestion/data.zip into artifacts/data_ingestion]\n",
      "[2024-03-16 23:31:10,261: INFO: 3070473835: Then, exiting extract_zip_data method of DataIngestion component]\n",
      "[2024-03-16 23:31:10,262: INFO: 2322006326: OK! Data Ingestion component completed]\n"
     ]
    },
    {
     "ename": "",
     "evalue": "",
     "output_type": "error",
     "traceback": [
      "\u001b[1;31mThe Kernel crashed while executing code in the current cell or a previous cell. \n",
      "\u001b[1;31mPlease review the code in the cell(s) to identify a possible cause of the failure. \n",
      "\u001b[1;31mClick <a href='https://aka.ms/vscodeJupyterKernelCrash'>here</a> for more info. \n",
      "\u001b[1;31mView Jupyter <a href='command:jupyter.viewOutput'>log</a> for further details."
     ]
    }
   ],
   "source": [
    "try:\n",
    "    logger.info(\"Data Ingestion component started\")\n",
    "    logger.info(\"Loading of Data Ingestion configuration started\")\n",
    "    config = ConfigurationManager() # create object for ConfigurationManager class\n",
    "    data_ingestion_config = config.get_data_ingestion_config() # obj.method() returns DataIngestionConfig\n",
    "    logger.info(\"All configuration directories, files needed for Data Ingestion component are ready\")\n",
    "    \n",
    "    logger.info(\"Data Ingestion steps started\")\n",
    "    data_ingestion = DataIngestion(data_ingestion_config = data_ingestion_config) # create object for DataIngestion class\n",
    "    data_ingestion.download_file() # obj.method()\n",
    "    data_ingestion.extract_zip_data()\n",
    "    logger.info(\"OK! Data Ingestion component completed\")\n",
    "except Exception as e:\n",
    "    raise e"
   ]
  }
 ],
 "metadata": {
  "kernelspec": {
   "display_name": "chest",
   "language": "python",
   "name": "python3"
  },
  "language_info": {
   "codemirror_mode": {
    "name": "ipython",
    "version": 3
   },
   "file_extension": ".py",
   "mimetype": "text/x-python",
   "name": "python",
   "nbconvert_exporter": "python",
   "pygments_lexer": "ipython3",
   "version": "3.8.18"
  }
 },
 "nbformat": 4,
 "nbformat_minor": 2
}
