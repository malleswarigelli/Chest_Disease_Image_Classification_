{
 "cells": [
  {
   "cell_type": "code",
   "execution_count": 1,
   "metadata": {},
   "outputs": [],
   "source": [
    "import os"
   ]
  },
  {
   "cell_type": "code",
   "execution_count": 2,
   "metadata": {},
   "outputs": [
    {
     "data": {
      "text/plain": [
       "'c:\\\\Users\\\\anjik\\\\Desktop\\\\MLOPs_projects\\\\Chest_Disease_Image_Classification\\\\research'"
      ]
     },
     "execution_count": 2,
     "metadata": {},
     "output_type": "execute_result"
    }
   ],
   "source": [
    "%pwd"
   ]
  },
  {
   "cell_type": "code",
   "execution_count": 3,
   "metadata": {},
   "outputs": [],
   "source": [
    "os.chdir(\"../\")"
   ]
  },
  {
   "cell_type": "code",
   "execution_count": 4,
   "metadata": {},
   "outputs": [
    {
     "data": {
      "text/plain": [
       "'c:\\\\Users\\\\anjik\\\\Desktop\\\\MLOPs_projects\\\\Chest_Disease_Image_Classification'"
      ]
     },
     "execution_count": 4,
     "metadata": {},
     "output_type": "execute_result"
    }
   ],
   "source": [
    "%pwd"
   ]
  },
  {
   "cell_type": "markdown",
   "metadata": {},
   "source": [
    "# imports"
   ]
  },
  {
   "cell_type": "code",
   "execution_count": 5,
   "metadata": {},
   "outputs": [],
   "source": [
    "from cnnClassifier.constants import *\n",
    "from cnnClassifier.utils.common import read_yaml, create_directories\n",
    "from cnnClassifier.entity.config_entity import DataIngestionConfig, PrepareBaseModelConfig\n",
    "from cnnClassifier import logger\n",
    "from cnnClassifier.config.configuration import ConfigurationManager\n",
    "\n",
    "import keras,os\n",
    "from keras.models import Sequential\n",
    "from keras.layers import Dense, Conv2D, MaxPool2D , Flatten\n",
    "from keras.preprocessing.image import ImageDataGenerator\n",
    "import numpy as np\n",
    "from cnnClassifier import logger"
   ]
  },
  {
   "cell_type": "markdown",
   "metadata": {},
   "source": [
    "## read config.yaml, params.yaml files"
   ]
  },
  {
   "cell_type": "code",
   "execution_count": 6,
   "metadata": {},
   "outputs": [
    {
     "name": "stdout",
     "output_type": "stream",
     "text": [
      "[2024-03-16 19:41:15,726: INFO: common: yaml file: config\\config.yaml loaded successfully]\n",
      "[2024-03-16 19:41:15,729: INFO: common: yaml file: params.yaml loaded successfully]\n",
      "config.yaml {'artifacts_root': 'artifacts', 'data_ingestion': {'root_dir': 'artifacts/data_ingestion', 'source_URL': 'https://drive.google.com/file/d/1z0mreUtRmR-P-magILsDR3T7M6IkGXtY/view?usp=drive_link', 'local_data_file': 'artifacts/data_ingestion/data.zip', 'unzip_dir': 'artifacts/data_ingestion'}, 'prepare_base_model': {'root_dir': 'artifacts/prepare_base_model', 'base_model_path': 'artifacts/prepare_base_model/base_model.h5', 'updated_base_model_path': 'artifacts/prepare_base_model/base_model_updated.h5'}}\n",
      "params.yaml {'AUGMENTATION': True, 'IMAGE_SIZE': [224, 224, 3], 'BATCH_SIZE': 16, 'INCLUDE_TOP': False, 'EPOCHS': 1, 'CLASSES': 2, 'WEIGHTS': 'imagenet', 'LEARNING_RATE': 0.01}\n"
     ]
    }
   ],
   "source": [
    "config = read_yaml(CONFIG_FILE_PATH)\n",
    "params = read_yaml(PARAMS_FILE_PATH)\n",
    "print(\"config.yaml\", config)\n",
    "print(\"params.yaml\", params)\n"
   ]
  },
  {
   "cell_type": "code",
   "execution_count": 7,
   "metadata": {},
   "outputs": [
    {
     "name": "stdout",
     "output_type": "stream",
     "text": [
      "prepare_base_model_config: {'root_dir': 'artifacts/prepare_base_model', 'base_model_path': 'artifacts/prepare_base_model/base_model.h5', 'updated_base_model_path': 'artifacts/prepare_base_model/base_model_updated.h5'}\n",
      "params: {'AUGMENTATION': True, 'IMAGE_SIZE': [224, 224, 3], 'BATCH_SIZE': 16, 'INCLUDE_TOP': False, 'EPOCHS': 1, 'CLASSES': 2, 'WEIGHTS': 'imagenet', 'LEARNING_RATE': 0.01}\n"
     ]
    }
   ],
   "source": [
    "prepare_base_model_config = config.prepare_base_model\n",
    "params = params\n",
    "print(\"prepare_base_model_config:\", prepare_base_model_config)\n",
    "print(\"params:\", params)"
   ]
  },
  {
   "cell_type": "code",
   "execution_count": 8,
   "metadata": {},
   "outputs": [
    {
     "data": {
      "text/plain": [
       "'artifacts/prepare_base_model'"
      ]
     },
     "execution_count": 8,
     "metadata": {},
     "output_type": "execute_result"
    }
   ],
   "source": [
    "prepare_base_model_config.root_dir"
   ]
  },
  {
   "cell_type": "code",
   "execution_count": 9,
   "metadata": {},
   "outputs": [
    {
     "data": {
      "text/plain": [
       "'artifacts/prepare_base_model/base_model.h5'"
      ]
     },
     "execution_count": 9,
     "metadata": {},
     "output_type": "execute_result"
    }
   ],
   "source": [
    "prepare_base_model_config.base_model_path"
   ]
  },
  {
   "cell_type": "code",
   "execution_count": 10,
   "metadata": {},
   "outputs": [
    {
     "data": {
      "text/plain": [
       "'artifacts/prepare_base_model/base_model_updated.h5'"
      ]
     },
     "execution_count": 10,
     "metadata": {},
     "output_type": "execute_result"
    }
   ],
   "source": [
    "prepare_base_model_config.updated_base_model_path"
   ]
  },
  {
   "cell_type": "markdown",
   "metadata": {},
   "source": [
    "# configuration"
   ]
  },
  {
   "cell_type": "code",
   "execution_count": 11,
   "metadata": {},
   "outputs": [],
   "source": [
    "class ConfigurationManager:\n",
    "    \"\"\"\n",
    "    ConfigurationManager class captures & returns configuration for components implementation\n",
    "        \n",
    "    \"\"\"\n",
    "    def __init__(self,\n",
    "        # params: config.yaml, params.yaml file paths          \n",
    "        config_filepath = CONFIG_FILE_PATH,\n",
    "        params_filepath = PARAMS_FILE_PATH):\n",
    "        \n",
    "        # read config, params yaml file\n",
    "        self.config = read_yaml(config_filepath) # returns ConfigBox to access data easily\n",
    "        self.params = read_yaml(params_filepath)\n",
    "        \n",
    "        # create artifact directory\n",
    "        create_directories([self.config.artifacts_root])\n",
    "        \n",
    "          \n",
    "    def get_prepare_base_model_config (self) -> PrepareBaseModelConfig:\n",
    "        \"\"\"\n",
    "        Method: get_prepare_base_model_config\n",
    "        Params:\n",
    "        Returns: configurations from config.yaml, params.yaml for prepare_base_model component i.e PrepareBaseModelConfig \n",
    "        \"\"\"\n",
    "        logger.info(\"Entering get_prepare_base_model_config method of ConfigurationManager\")\n",
    "        prepare_base_model_config = self.config.prepare_base_model # prepare_base_model key from config.yaml\n",
    "        params_config = self.params\n",
    "        create_directories([prepare_base_model_config.root_dir]) # creates artifacts/prepare_base_model\n",
    "        \n",
    "        # returning from entity: DataIngestionConfig dataclass\n",
    "        prepare_base_model_config= PrepareBaseModelConfig(\n",
    "            root_dir = Path(prepare_base_model_config.root_dir),\n",
    "            base_model_path= Path(prepare_base_model_config.base_model_path),\n",
    "            updated_base_model_path= Path(prepare_base_model_config.updated_base_model_path),\n",
    "            params_image_size= params_config.IMAGE_SIZE, \n",
    "            params_learning_rate= params_config.LEARNING_RATE, \n",
    "            params_include_top= params_config.INCLUDE_TOP,\n",
    "            params_weights= params_config.WEIGHTS,\n",
    "            params_classes= params_config.CLASSES   \n",
    "          \n",
    "        )\n",
    "        logger.info(\"Then, exiting prepare_base_model method of ConfigurationManager\")\n",
    "        return prepare_base_model_config"
   ]
  },
  {
   "cell_type": "code",
   "execution_count": 12,
   "metadata": {},
   "outputs": [
    {
     "name": "stdout",
     "output_type": "stream",
     "text": [
      "[2024-03-16 19:41:15,821: INFO: common: yaml file: config\\config.yaml loaded successfully]\n",
      "[2024-03-16 19:41:15,823: INFO: common: yaml file: params.yaml loaded successfully]\n",
      "[2024-03-16 19:41:15,824: INFO: common: created directory at: artifacts]\n",
      "[2024-03-16 19:41:15,825: INFO: 715560536: Entering get_prepare_base_model_config method of ConfigurationManager]\n",
      "[2024-03-16 19:41:15,827: INFO: common: created directory at: artifacts/prepare_base_model]\n",
      "[2024-03-16 19:41:15,828: INFO: 715560536: Then, exiting prepare_base_model method of ConfigurationManager]\n"
     ]
    },
    {
     "data": {
      "text/plain": [
       "PrepareBaseModelConfig(root_dir=WindowsPath('artifacts/prepare_base_model'), base_model_path=WindowsPath('artifacts/prepare_base_model/base_model.h5'), updated_base_model_path=WindowsPath('artifacts/prepare_base_model/base_model_updated.h5'), params_image_size=BoxList([224, 224, 3]), params_learning_rate=0.01, params_include_top=False, params_weights='imagenet', params_classes=2)"
      ]
     },
     "execution_count": 12,
     "metadata": {},
     "output_type": "execute_result"
    }
   ],
   "source": [
    "configuration = ConfigurationManager(config_filepath = CONFIG_FILE_PATH,\n",
    "                                                params_filepath = PARAMS_FILE_PATH)\n",
    "prepare_base_model_config= configuration.get_prepare_base_model_config()\n",
    "prepare_base_model_config\n"
   ]
  },
  {
   "cell_type": "code",
   "execution_count": 13,
   "metadata": {},
   "outputs": [],
   "source": [
    "import urllib.request as request\n",
    "from zipfile import ZipFile\n",
    "import tensorflow as tf"
   ]
  },
  {
   "cell_type": "code",
   "execution_count": 14,
   "metadata": {},
   "outputs": [],
   "source": [
    "# write PrepareBaseModel Component\n",
    "class PrepareBaseModel: \n",
    "    \"\"\"\n",
    "    This class gets VGG16 base model from keras, update bottom layers\n",
    "    \"\"\"\n",
    "    \n",
    "    def __init__(self, prepare_base_model_config:PrepareBaseModelConfig):\n",
    "        \"\"\"\n",
    "        :param prepare_base_model_config: configuration for PrepareBaseModel    \n",
    "        \"\"\"\n",
    "        self.prepare_base_model_config = prepare_base_model_config\n",
    "        \n",
    "    def get_base_model(self):\n",
    "        \"\"\"\n",
    "        Method Name : get_base_model\n",
    "        Description : fetch VGG16 base model from keras.applications\n",
    "        Output      : \n",
    "        On Failure  :   Write an exception log and then raise an exception\n",
    "        \"\"\"\n",
    "        logger.info(\"Entering get_base_model method of PrepareBaseModel\")\n",
    "        try:\n",
    "            self.base_model= tf.keras.applications.vgg16.VGG16(\n",
    "                include_top= self.prepare_base_model_config.params_include_top, \n",
    "                weights= self.prepare_base_model_config.params_weights,              \n",
    "                input_shape= self.prepare_base_model_config.params_image_size         \n",
    "                     \n",
    "            )\n",
    "            self.save_model(path= self.prepare_base_model_config.base_model_path, model=self.base_model)\n",
    "            \n",
    "            logger.info(\"Saved Vgg16 base model\")\n",
    "            logger.info(\"Then, exiting get_base_model method of PrepareBaseModel\")\n",
    "            \n",
    "        except Exception as e:\n",
    "            raise e\n",
    "        \n",
    "    @staticmethod\n",
    "    def _prepare_full_model(base_model, classes, freeze_all, freeze_till, learning_rate):\n",
    "        \"\"\"\n",
    "        Method Name : _prepare_full_model\n",
    "        Description : update the base model (change architexture by adding custom dense layer)\n",
    "        Output      : \n",
    "        On Failure  :  Write an exception log and then raise an exception\n",
    "        \n",
    "        \"\"\"\n",
    "        logger.info(\"Entering _prepare_full_model method of PrepareBaseModel\")\n",
    "        \n",
    "        try: \n",
    "            logger.info(\"Freezing the layers\")\n",
    "            if freeze_all:\n",
    "                for layer in base_model.layers:\n",
    "                    base_model.trainable= False\n",
    "            elif (freeze_all is not None) and (freeze_till > 0):\n",
    "                for layer in base_model.layers[:-freeze_till]:\n",
    "                    base_model.trainable= False\n",
    "                \n",
    "            logger.info(\"Flattening the layers\")\n",
    "            flatten_in = tf.keras.layers.Flatten()(base_model.output)  \n",
    "            \n",
    "            logger.info(\"Custom dense layer added!\")\n",
    "            prediction = tf.keras.layers.Dense(\n",
    "                units=classes,\n",
    "                activation=\"softmax\"\n",
    "            )(flatten_in) \n",
    "            \n",
    "            logger.info(\"Preparing custom architexture of the model!\")\n",
    "            full_model = tf.keras.models.Model(\n",
    "                inputs= base_model.input,\n",
    "                outputs= prediction\n",
    "            ) \n",
    "            \n",
    "            logger.info(\"Compiling the model!\")\n",
    "            full_model.compile(\n",
    "                optimizer= tf.keras.optimizers.SGD(learning_rate=learning_rate),\n",
    "                loss= tf.keras.losses.CategoricalCrossentropy(),\n",
    "                metrics=[\"accuracy\"]\n",
    "            )\n",
    "        \n",
    "            full_model.summary()\n",
    "            logger.info(\"Returning full architexture of the model\")\n",
    "            logger.info(\"Then, exiting _prepare_full_model method of PrepareBaseModel\")\n",
    "            return full_model\n",
    "        \n",
    "        except Exception as e:\n",
    "            raise e\n",
    "        \n",
    "    def get_updated_base_model(self):\n",
    "        \"\"\"\n",
    "        Method Name : get_updated_base_model\n",
    "        Description : get updated vgg16 model\n",
    "        Output      : \n",
    "        On Failure  :  Write an exception log and then raise an exception\n",
    "        \n",
    "        \"\"\"\n",
    "        logger.info(\"Entering get_updated_base_model method of PrepareBaseModel\")\n",
    "        \n",
    "        try: \n",
    "            self.full_model= self._prepare_full_model(\n",
    "                base_model= self.base_model, \n",
    "                classes= self.prepare_base_model_config.params_classes, \n",
    "                freeze_all= True, \n",
    "                freeze_till= None, \n",
    "                learning_rate= self.prepare_base_model_config.params_learning_rate\n",
    "            ) \n",
    "            self.save_model(path= self.prepare_base_model_config.updated_base_model_path, model=self.full_model)\n",
    "            \n",
    "            logger.info(\"Saved updated Vgg16 model\")\n",
    "            logger.info(\"Then, exiting get_updated_base_model method of PrepareBaseModel\")\n",
    "            \n",
    "        except Exception as e:\n",
    "            raise e\n",
    "        \n",
    "        \n",
    "    @staticmethod\n",
    "    def save_model(path: Path, model: tf.keras.Model):\n",
    "        model.save(path)"
   ]
  },
  {
   "cell_type": "markdown",
   "metadata": {},
   "source": [
    "# Training pipeline for prepare base model component"
   ]
  },
  {
   "cell_type": "code",
   "execution_count": 15,
   "metadata": {},
   "outputs": [
    {
     "name": "stdout",
     "output_type": "stream",
     "text": [
      "[2024-03-16 19:41:16,115: INFO: 1053352748: PrepareBaseModel component started]\n",
      "[2024-03-16 19:41:16,116: INFO: 1053352748: Loading of PrepareBaseModel component configuration started]\n",
      "[2024-03-16 19:41:16,119: INFO: common: yaml file: config\\config.yaml loaded successfully]\n",
      "[2024-03-16 19:41:16,122: INFO: common: yaml file: params.yaml loaded successfully]\n",
      "[2024-03-16 19:41:16,123: INFO: common: created directory at: artifacts]\n",
      "[2024-03-16 19:41:16,124: INFO: 715560536: Entering get_prepare_base_model_config method of ConfigurationManager]\n",
      "[2024-03-16 19:41:16,125: INFO: common: created directory at: artifacts/prepare_base_model]\n",
      "[2024-03-16 19:41:16,126: INFO: 715560536: Then, exiting prepare_base_model method of ConfigurationManager]\n",
      "[2024-03-16 19:41:16,127: INFO: 1053352748: All configuration directories, files needed for PrepareBaseModel component are ready]\n",
      "[2024-03-16 19:41:16,128: INFO: 1053352748: PrepareBaseModel steps started]\n",
      "[2024-03-16 19:41:16,129: INFO: 2663257641: Entering get_base_model method of PrepareBaseModel]\n",
      "[2024-03-16 19:41:16,513: WARNING: saving_utils: Compiled the loaded model, but the compiled metrics have yet to be built. `model.compile_metrics` will be empty until you train or evaluate the model.]\n",
      "[2024-03-16 19:41:16,580: INFO: 2663257641: Saved Vgg16 base model]\n",
      "[2024-03-16 19:41:16,581: INFO: 2663257641: Then, exiting get_base_model method of PrepareBaseModel]\n",
      "[2024-03-16 19:41:16,582: INFO: 2663257641: Entering get_updated_base_model method of PrepareBaseModel]\n",
      "[2024-03-16 19:41:16,583: INFO: 2663257641: Entering _prepare_full_model method of PrepareBaseModel]\n",
      "[2024-03-16 19:41:16,584: INFO: 2663257641: Freezing the layers]\n",
      "[2024-03-16 19:41:16,592: INFO: 2663257641: Flattening the layers]\n",
      "[2024-03-16 19:41:16,595: INFO: 2663257641: Custom dense layer added!]\n",
      "[2024-03-16 19:41:16,606: INFO: 2663257641: Preparing custom architexture of the model!]\n",
      "[2024-03-16 19:41:16,609: INFO: 2663257641: Compiling the model!]\n",
      "Model: \"model\"\n",
      "_________________________________________________________________\n",
      " Layer (type)                Output Shape              Param #   \n",
      "=================================================================\n",
      " input_1 (InputLayer)        [(None, 224, 224, 3)]     0         \n",
      "                                                                 \n",
      " block1_conv1 (Conv2D)       (None, 224, 224, 64)      1792      \n",
      "                                                                 \n",
      " block1_conv2 (Conv2D)       (None, 224, 224, 64)      36928     \n",
      "                                                                 \n",
      " block1_pool (MaxPooling2D)  (None, 112, 112, 64)      0         \n",
      "                                                                 \n",
      " block2_conv1 (Conv2D)       (None, 112, 112, 128)     73856     \n",
      "                                                                 \n",
      " block2_conv2 (Conv2D)       (None, 112, 112, 128)     147584    \n",
      "                                                                 \n",
      " block2_pool (MaxPooling2D)  (None, 56, 56, 128)       0         \n",
      "                                                                 \n",
      " block3_conv1 (Conv2D)       (None, 56, 56, 256)       295168    \n",
      "                                                                 \n",
      " block3_conv2 (Conv2D)       (None, 56, 56, 256)       590080    \n",
      "                                                                 \n",
      " block3_conv3 (Conv2D)       (None, 56, 56, 256)       590080    \n",
      "                                                                 \n",
      " block3_pool (MaxPooling2D)  (None, 28, 28, 256)       0         \n",
      "                                                                 \n",
      " block4_conv1 (Conv2D)       (None, 28, 28, 512)       1180160   \n",
      "                                                                 \n",
      " block4_conv2 (Conv2D)       (None, 28, 28, 512)       2359808   \n",
      "                                                                 \n",
      " block4_conv3 (Conv2D)       (None, 28, 28, 512)       2359808   \n",
      "                                                                 \n",
      " block4_pool (MaxPooling2D)  (None, 14, 14, 512)       0         \n",
      "                                                                 \n",
      " block5_conv1 (Conv2D)       (None, 14, 14, 512)       2359808   \n",
      "                                                                 \n",
      " block5_conv2 (Conv2D)       (None, 14, 14, 512)       2359808   \n",
      "                                                                 \n",
      " block5_conv3 (Conv2D)       (None, 14, 14, 512)       2359808   \n",
      "                                                                 \n",
      " block5_pool (MaxPooling2D)  (None, 7, 7, 512)         0         \n",
      "                                                                 \n",
      " flatten (Flatten)           (None, 25088)             0         \n",
      "                                                                 \n",
      " dense (Dense)               (None, 2)                 50178     \n",
      "                                                                 \n",
      "=================================================================\n",
      "Total params: 14,764,866\n",
      "Trainable params: 50,178\n",
      "Non-trainable params: 14,714,688\n",
      "_________________________________________________________________\n",
      "[2024-03-16 19:41:16,645: INFO: 2663257641: Returning full architexture of the model]\n",
      "[2024-03-16 19:41:16,645: INFO: 2663257641: Then, exiting _prepare_full_model method of PrepareBaseModel]\n",
      "[2024-03-16 19:41:16,764: INFO: 2663257641: Saved updated Vgg16 model]\n",
      "[2024-03-16 19:41:16,765: INFO: 2663257641: Then, exiting get_updated_base_model method of PrepareBaseModel]\n",
      "[2024-03-16 19:41:16,765: INFO: 1053352748: OK! PrepareBaseModel component completed]\n"
     ]
    }
   ],
   "source": [
    "try:\n",
    "    logger.info(\"PrepareBaseModel component started\")\n",
    "    logger.info(\"Loading of PrepareBaseModel component configuration started\")\n",
    "    config = ConfigurationManager() # create object for ConfigurationManager class\n",
    "    prepare_base_model_config = config.get_prepare_base_model_config() # obj.method() returns PrepareBaseModelConfig\n",
    "    logger.info(\"All configuration directories, files needed for PrepareBaseModel component are ready\")\n",
    "    \n",
    "    logger.info(\"PrepareBaseModel steps started\")\n",
    "    prepare_base_model = PrepareBaseModel(prepare_base_model_config = prepare_base_model_config) # create object for PrepareBaseModel class\n",
    "    prepare_base_model.get_base_model() # obj.method()    \n",
    "    prepare_base_model.get_updated_base_model()\n",
    "    logger.info(\"OK! PrepareBaseModel component completed\")\n",
    "except Exception as e:\n",
    "    raise e"
   ]
  }
 ],
 "metadata": {
  "kernelspec": {
   "display_name": "chest",
   "language": "python",
   "name": "python3"
  },
  "language_info": {
   "codemirror_mode": {
    "name": "ipython",
    "version": 3
   },
   "file_extension": ".py",
   "mimetype": "text/x-python",
   "name": "python",
   "nbconvert_exporter": "python",
   "pygments_lexer": "ipython3",
   "version": "3.8.18"
  }
 },
 "nbformat": 4,
 "nbformat_minor": 2
}
