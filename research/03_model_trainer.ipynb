{
 "cells": [
  {
   "cell_type": "code",
   "execution_count": 1,
   "metadata": {},
   "outputs": [],
   "source": [
    "import os"
   ]
  },
  {
   "cell_type": "code",
   "execution_count": 2,
   "metadata": {},
   "outputs": [],
   "source": [
    "os.chdir(\"../\")"
   ]
  },
  {
   "cell_type": "code",
   "execution_count": 3,
   "metadata": {},
   "outputs": [
    {
     "data": {
      "text/plain": [
       "'c:\\\\Users\\\\anjik\\\\Desktop\\\\MLOPs_projects\\\\Chest_Disease_Image_Classification'"
      ]
     },
     "execution_count": 3,
     "metadata": {},
     "output_type": "execute_result"
    }
   ],
   "source": [
    "%pwd"
   ]
  },
  {
   "cell_type": "markdown",
   "metadata": {},
   "source": [
    "# imports"
   ]
  },
  {
   "cell_type": "code",
   "execution_count": 4,
   "metadata": {},
   "outputs": [],
   "source": [
    "from cnnClassifier.constants import *\n",
    "from cnnClassifier.utils.common import read_yaml, create_directories\n",
    "from cnnClassifier import logger"
   ]
  },
  {
   "cell_type": "code",
   "execution_count": 5,
   "metadata": {},
   "outputs": [],
   "source": [
    "from dataclasses import dataclass\n",
    "from pathlib import Path\n",
    "\n",
    "@dataclass(frozen=True)\n",
    "class ModelTrainerConfig:\n",
    "    root_dir: Path\n",
    "    trained_model_path: Path\n",
    "    updated_base_model_path: Path\n",
    "    training_data: Path\n",
    "    params_epochs: int\n",
    "    params_batch_size: int\n",
    "    params_is_augmentation: bool\n",
    "    params_image_size: list"
   ]
  },
  {
   "cell_type": "code",
   "execution_count": 6,
   "metadata": {},
   "outputs": [
    {
     "name": "stdout",
     "output_type": "stream",
     "text": [
      "[2024-03-16 23:11:18,831: INFO: common: yaml file: config\\config.yaml loaded successfully]\n",
      "{'artifacts_root': 'artifacts', 'data_ingestion': {'root_dir': 'artifacts/data_ingestion', 'source_URL': 'https://drive.google.com/file/d/1z0mreUtRmR-P-magILsDR3T7M6IkGXtY/view?usp=drive_link', 'local_data_file': 'artifacts/data_ingestion/data.zip', 'unzip_dir': 'artifacts/data_ingestion'}, 'prepare_base_model': {'root_dir': 'artifacts/prepare_base_model', 'base_model_path': 'artifacts/prepare_base_model/base_model.h5', 'updated_base_model_path': 'artifacts/prepare_base_model/base_model_updated.h5'}, 'model_training': {'root_dir': 'artifacts/model_training', 'trained_model_path': 'artifacts/model_training/model.h5'}}\n"
     ]
    },
    {
     "data": {
      "text/plain": [
       "ConfigBox({'root_dir': 'artifacts/model_training', 'trained_model_path': 'artifacts/model_training/model.h5'})"
      ]
     },
     "execution_count": 6,
     "metadata": {},
     "output_type": "execute_result"
    }
   ],
   "source": [
    "# access model trainer config\n",
    "config = read_yaml(CONFIG_FILE_PATH)\n",
    "print(config)\n",
    "model_trainer_config= config.model_training\n",
    "model_trainer_config"
   ]
  },
  {
   "cell_type": "code",
   "execution_count": 7,
   "metadata": {},
   "outputs": [
    {
     "name": "stdout",
     "output_type": "stream",
     "text": [
      "[2024-03-16 23:11:18,849: INFO: common: yaml file: params.yaml loaded successfully]\n"
     ]
    },
    {
     "data": {
      "text/plain": [
       "ConfigBox({'AUGMENTATION': True, 'IMAGE_SIZE': [224, 224, 3], 'BATCH_SIZE': 16, 'INCLUDE_TOP': False, 'EPOCHS': 1, 'CLASSES': 2, 'WEIGHTS': 'imagenet', 'LEARNING_RATE': 0.01})"
      ]
     },
     "execution_count": 7,
     "metadata": {},
     "output_type": "execute_result"
    }
   ],
   "source": [
    "params = read_yaml(PARAMS_FILE_PATH)\n",
    "params"
   ]
  },
  {
   "cell_type": "code",
   "execution_count": 8,
   "metadata": {},
   "outputs": [],
   "source": [
    "# write configuration manager\n",
    "class ConfigurationManager:\n",
    "    \"\"\"\n",
    "    ConfigurationManager class captures & returns configuration for components implementation\n",
    "        \n",
    "    \"\"\"\n",
    "    def __init__(self,\n",
    "        # params: config.yaml, params.yaml file paths          \n",
    "        config_filepath = CONFIG_FILE_PATH,\n",
    "        params_filepath = PARAMS_FILE_PATH):\n",
    "        \n",
    "        # read config, params yaml file\n",
    "        self.config = read_yaml(config_filepath) # returns ConfigBox to access data easily\n",
    "        self.params = read_yaml(params_filepath)\n",
    "        \n",
    "        # create artifact directory\n",
    "        create_directories([self.config.artifacts_root])\n",
    "        \n",
    "    def get_model_trainer_config (self) -> ModelTrainerConfig:\n",
    "        \"\"\"\n",
    "        Method: get_model_trainer_config\n",
    "        Params:\n",
    "        Returns: configuration for Model Trainer component i.e ModelTrainerConfig \n",
    "        \"\"\"\n",
    "        logger.info(\"Entering get_model_trainer_config method of ConfigurationManager\")\n",
    "        model_trainer_config = self.config.model_training # model_training key from config.yaml\n",
    "        prepare_base_model_config = self.config.prepare_base_model # prepare_base_model key from config.yaml\n",
    "        params_config = self.params # params.yaml              \n",
    "        training_data= os.path.join(self.config.data_ingestion.unzip_dir, \"Chest-CT-Scan-data\") # training data from data ingestion artifact\n",
    "        \n",
    "        create_directories([\n",
    "            Path(model_trainer_config.root_dir)\n",
    "                 ]) # creates artifacts/model_training directory\n",
    "        \n",
    "        # returning from entity: ModelTrainerConfig dataclass\n",
    "        model_trainer_config= ModelTrainerConfig(\n",
    "            root_dir = Path(model_trainer_config.root_dir),\n",
    "            trained_model_path= Path(model_trainer_config.trained_model_path),\n",
    "            updated_base_model_path= Path(prepare_base_model_config.updated_base_model_path),\n",
    "            training_data= Path(training_data),\n",
    "            params_epochs= params_config.EPOCHS,\n",
    "            params_batch_size= params_config.BATCH_SIZE,\n",
    "            params_is_augmentation= params_config.AUGMENTATION,\n",
    "            params_image_size= params_config.IMAGE_SIZE\n",
    "            \n",
    "        )\n",
    "        logger.info(\"Then, exiting get_model_trainer_config method of ConfigurationManager\")\n",
    "        return model_trainer_config"
   ]
  },
  {
   "cell_type": "code",
   "execution_count": 9,
   "metadata": {},
   "outputs": [],
   "source": [
    "import os\n",
    "import urllib.request as request\n",
    "from zipfile import ZipFile\n",
    "import tensorflow as tf\n",
    "import time"
   ]
  },
  {
   "cell_type": "code",
   "execution_count": 10,
   "metadata": {},
   "outputs": [],
   "source": [
    "class ModelTraining:\n",
    "    \"\"\"\n",
    "     This class trains the data with updated Vgg16 model\n",
    "    \"\"\"\n",
    "    def __init__(self, model_training_config:ModelTrainerConfig):\n",
    "        self.model_training_config= model_training_config \n",
    "        \n",
    "    \n",
    "    def get_base_model(self):\n",
    "        \"\"\"\n",
    "        Method Name : get_base_model\n",
    "        Description : loads updated VGG16 model from artifacts/prepare_base_model/base_model_updated.h5\n",
    "        Output      : \n",
    "        On Failure  :   Write an exception log and then raise an exception\n",
    "        \"\"\"\n",
    "        logger.info(\"Getting base model\")\n",
    "        try:\n",
    "            self.model= tf.keras.models.load_model(self.model_training_config.updated_base_model_path) # artifacts/prepare_base_model/base_model_updated.h5\n",
    "            \n",
    "        except Exception as e:\n",
    "            raise e\n",
    "        \n",
    "    def train_valid_generator(self):\n",
    "        \"\"\"\n",
    "        Method Name : train_valid_generator\n",
    "        Description : performs train test split of the data\n",
    "        Output      : \n",
    "        On Failure  :   Write an exception log and then raise an exception\n",
    "        \n",
    "        \"\"\"\n",
    "        logger.info(\"Data split: Training and validation: started!\")\n",
    "        data_generator_kwargs= dict(rescale= 1./255,\n",
    "                                   validation_split= 0.20)\n",
    "        \n",
    "        dataflow_kwargs= dict(target_size= self.model_training_config.params_image_size[:-1],\n",
    "                              batch_size= self.model_training_config.params_batch_size,\n",
    "                              interpolation= \"bilinear\")\n",
    "        \n",
    "        valid_data_generator= tf.keras.preprocessing.image.ImageDataGenerator(**data_generator_kwargs)\n",
    "        self.valid_generator= valid_data_generator.flow_from_directory(directory= self.model_training_config.training_data,\n",
    "                                                                       subset= \"validation\",\n",
    "                                                                       shuffle= False,\n",
    "                                                                       **dataflow_kwargs)\n",
    "        \n",
    "        if self.model_training_config.params_is_augmentation:\n",
    "            train_data_generator= tf.keras.preprocessing.image.ImageDataGenerator(rotation_range=40,\n",
    "                                                                                  horizontal_flip=True,\n",
    "                                                                                  width_shift_range=0.2,\n",
    "                                                                                  height_shift_range=0.2,\n",
    "                                                                                  shear_range=0.2,\n",
    "                                                                                  zoom_range=0.2,\n",
    "                                                                                  **data_generator_kwargs)\n",
    "        else:\n",
    "            train_data_generator= valid_data_generator\n",
    "            \n",
    "        self.train_generator= train_data_generator.flow_from_directory(directory= self.model_training_config.training_data,\n",
    "                                                                       subset= \"training\",\n",
    "                                                                       shuffle= True,\n",
    "                                                                       **dataflow_kwargs)\n",
    "        logger.info(\"Data split: Training and validation: completed!\")\n",
    "        \n",
    "        \n",
    "    @staticmethod\n",
    "    def save_model(path: Path, model: tf.keras.Model):\n",
    "        model.save(path)\n",
    "        \n",
    "    \n",
    "    def train(self):\n",
    "        self.steps_per_epoch= self.train_generator.samples // self.train_generator.batch_size\n",
    "        self.validation_steps= self.valid_generator.samples // self.valid_generator.batch_size\n",
    "        \n",
    "        logger.info(\"Model is fit\")\n",
    "        self.model.fit(self.train_generator,\n",
    "                       epochs=self.model_training_config.params_epochs,\n",
    "                       steps_per_epoch=self.steps_per_epoch,\n",
    "                       validation_steps=self.validation_steps,\n",
    "                       validation_data=self.valid_generator\n",
    "                       )\n",
    "        \n",
    "        logger.info(\"Trained model is saved\")\n",
    "        self.save_model(path=self.model_training_config.trained_model_path,\n",
    "                        model= self.model)"
   ]
  },
  {
   "cell_type": "markdown",
   "metadata": {},
   "source": [
    "# Training pipeline for Model Trainer component"
   ]
  },
  {
   "cell_type": "code",
   "execution_count": 12,
   "metadata": {},
   "outputs": [
    {
     "name": "stdout",
     "output_type": "stream",
     "text": [
      "[2024-03-16 23:11:22,854: INFO: 2503225683: ModelTrainer component started]\n",
      "[2024-03-16 23:11:22,855: INFO: 2503225683: Loading of ModelTrainer component configuration started]\n",
      "[2024-03-16 23:11:22,858: INFO: common: yaml file: config\\config.yaml loaded successfully]\n",
      "[2024-03-16 23:11:22,862: INFO: common: yaml file: params.yaml loaded successfully]\n",
      "[2024-03-16 23:11:22,866: INFO: common: created directory at: artifacts]\n",
      "[2024-03-16 23:11:22,870: INFO: 323759356: Entering get_model_trainer_config method of ConfigurationManager]\n",
      "[2024-03-16 23:11:22,872: INFO: common: created directory at: artifacts\\model_training]\n",
      "[2024-03-16 23:11:22,901: INFO: 323759356: Then, exiting get_model_trainer_config method of ConfigurationManager]\n",
      "[2024-03-16 23:11:22,903: INFO: 2503225683: All configuration directories, files needed for ModelTrainer component are ready]\n",
      "[2024-03-16 23:11:22,904: INFO: 2503225683: ModelTrainer steps started]\n",
      "[2024-03-16 23:11:22,906: INFO: 1851567132: Getting base model]\n",
      "[2024-03-16 23:11:23,359: INFO: 1851567132: Data split: Training and validation: started!]\n",
      "Found 68 images belonging to 2 classes.\n",
      "Found 275 images belonging to 2 classes.\n",
      "[2024-03-16 23:11:23,396: INFO: 1851567132: Data split: Training and validation: completed!]\n",
      "[2024-03-16 23:11:23,397: INFO: 1851567132: Model is fit]\n",
      "17/17 [==============================] - 54s 3s/step - loss: 16.0820 - accuracy: 0.5290 - val_loss: 0.0276 - val_accuracy: 0.9844\n",
      "[2024-03-16 23:12:18,187: INFO: 1851567132: Trained model is saved]\n",
      "[2024-03-16 23:12:18,357: INFO: 2503225683: OK! ModelTrainer component completed]\n"
     ]
    }
   ],
   "source": [
    "try:\n",
    "    logger.info(\"ModelTrainer component started\")\n",
    "    logger.info(\"Loading of ModelTrainer component configuration started\")\n",
    "    config = ConfigurationManager() # create object for ConfigurationManager class\n",
    "    model_training_config= config.get_model_trainer_config() # obj.method() returns ModelTrainerConfig\n",
    "    logger.info(\"All configuration directories, files needed for ModelTrainer component are ready\")\n",
    "    \n",
    "    logger.info(\"ModelTrainer steps started\")\n",
    "    model_trainer = ModelTraining(model_training_config=model_training_config) # create object for ModelTraining class\n",
    "    model_trainer.get_base_model() # obj.method()    \n",
    "    model_trainer.train_valid_generator()\n",
    "    model_trainer.train()\n",
    "    logger.info(\"OK! ModelTrainer component completed\")\n",
    "except Exception as e:\n",
    "    raise e"
   ]
  }
 ],
 "metadata": {
  "kernelspec": {
   "display_name": "chest",
   "language": "python",
   "name": "python3"
  },
  "language_info": {
   "codemirror_mode": {
    "name": "ipython",
    "version": 3
   },
   "file_extension": ".py",
   "mimetype": "text/x-python",
   "name": "python",
   "nbconvert_exporter": "python",
   "pygments_lexer": "ipython3",
   "version": "3.8.18"
  }
 },
 "nbformat": 4,
 "nbformat_minor": 2
}
